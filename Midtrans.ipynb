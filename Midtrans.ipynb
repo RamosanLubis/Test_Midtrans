{
 "cells": [
  {
   "cell_type": "markdown",
   "metadata": {
    "collapsed": true
   },
   "source": [
    "# TEST MIDTRANS"
   ]
  },
  {
   "cell_type": "code",
   "execution_count": 140,
   "metadata": {
    "collapsed": true
   },
   "outputs": [],
   "source": [
    "import nltk\n",
    "from nltk.metrics import edit_distance\n",
    "from collections import Counter\n",
    "import re\n",
    "from collections import Counter\n",
    "import string\n"
   ]
  },
  {
   "cell_type": "code",
   "execution_count": 6,
   "metadata": {
    "collapsed": true
   },
   "outputs": [],
   "source": [
    "from difflib import SequenceMatcher\n",
    "\n",
    "def similar(a, b):\n",
    "    return SequenceMatcher(None, a, b).ratio()"
   ]
  },
  {
   "cell_type": "code",
   "execution_count": 8,
   "metadata": {},
   "outputs": [
    {
     "data": {
      "text/plain": [
       "0.13953488372093023"
      ]
     },
     "execution_count": 8,
     "metadata": {},
     "output_type": "execute_result"
    }
   ],
   "source": [
    "similar(\"Jalan budi mulia gang F3 No.29D Rt.04 Rw.02, Jakarta Selatan. Indonesia.\",\"PERUM. PURI ARSANA JL. RAYA CIPUTAT PARUNG KM.11 E-12 IDN\")"
   ]
  },
  {
   "cell_type": "markdown",
   "metadata": {},
   "source": [
    "# Soal 1"
   ]
  },
  {
   "cell_type": "code",
   "execution_count": 118,
   "metadata": {},
   "outputs": [
    {
     "name": "stdout",
     "output_type": "stream",
     "text": [
      "Cosine: 0.444749589997\n"
     ]
    }
   ],
   "source": [
    "WORD = re.compile(r'\\w+')\n",
    "\n",
    "def get_cosine(vec1, vec2):\n",
    "     intersection = set(vec1.keys()) & set(vec2.keys())\n",
    "     numerator = sum([vec1[x] * vec2[x] for x in intersection])\n",
    "\n",
    "     sum1 = sum([vec1[x]**2 for x in vec1.keys()])\n",
    "     sum2 = sum([vec2[x]**2 for x in vec2.keys()])\n",
    "     denominator = math.sqrt(sum1) * math.sqrt(sum2)\n",
    "\n",
    "     if not denominator:\n",
    "        return 0.0\n",
    "     else:\n",
    "        return float(numerator) / denominator\n",
    "\n",
    "def text_to_vector(kalimat):\n",
    "     words = WORD.findall(kalimat)\n",
    "     return Counter(words)\n",
    "\n",
    "alamat1 = 'Jalan budi mulia Gg. F2 Nomor 29 D RT. 04 Rw.02, JakSel'\n",
    "alamat2 = 'Jalan budi mulia gang F3 No.29D Rt.04 Rw.02, Jakarta Selatan. Indonesia. '\n",
    "\n",
    "vector1 = text_to_vector(alamat1)\n",
    "vector2 = text_to_vector(alamat2)\n",
    "\n",
    "cosine = get_cosine(vector1, vector2)\n",
    "\n",
    "print 'Cosine:', cosine"
   ]
  },
  {
   "cell_type": "markdown",
   "metadata": {},
   "source": [
    "# Soal 3"
   ]
  },
  {
   "cell_type": "code",
   "execution_count": 113,
   "metadata": {},
   "outputs": [],
   "source": [
    "text = '08111338062 / 08788'\n",
    "# print a"
   ]
  },
  {
   "cell_type": "code",
   "execution_count": 114,
   "metadata": {},
   "outputs": [],
   "source": [
    "def strip_punctuation(text):\n",
    "    return ''.join(c for c in text if c not in string.punctuation)"
   ]
  },
  {
   "cell_type": "code",
   "execution_count": 115,
   "metadata": {},
   "outputs": [
    {
     "data": {
      "text/plain": [
       "'62811133806208788'"
      ]
     },
     "execution_count": 115,
     "metadata": {},
     "output_type": "execute_result"
    }
   ],
   "source": [
    "textJadi = strip_punctuation(text)\n",
    "textJadii = re.sub(r\"\\s+\", \"\", textJadi, flags=re.UNICODE)\n",
    "replace = list(textJadii)\n",
    "replace[0] = '62'\n",
    "\"\".join(replace)"
   ]
  },
  {
   "cell_type": "markdown",
   "metadata": {},
   "source": [
    "# Soal 5"
   ]
  },
  {
   "cell_type": "code",
   "execution_count": 129,
   "metadata": {},
   "outputs": [
    {
     "name": "stdout",
     "output_type": "stream",
     "text": [
      "('Jumlah bus maksimum yang terdapat di stasiun = ', 2)\n"
     ]
    }
   ],
   "source": [
    "def findPlatform(arr,dep,n):\n",
    "    dep.sort()\n",
    "    plat_needed = 1\n",
    "    result = 1\n",
    "    i = 1\n",
    "    j = 0\n",
    "\n",
    "    while (i < n and j < n):\n",
    "        if (arr[i] < dep[j]):      \n",
    "            plat_needed+=1\n",
    "            i+=1\n",
    "            if (plat_needed > result): \n",
    "                result = plat_needed\n",
    "        else:      \n",
    "            plat_needed-=1\n",
    "            j+=1   \n",
    "    return result\n",
    " \n",
    "arr = [10, 15, 20, 35, 55]\n",
    "dep = [15, 25, 40, 50, 60]\n",
    "n = len(arr)\n",
    " \n",
    "print(\"Jumlah bus maksimum yang terdapat di stasiun = \",\n",
    "        findPlatform(arr, dep, n))\n",
    "\n",
    "\n",
    "# Example: A = arrival D = departure \n",
    "# --- \n",
    "# Bus 1 A 10:00 D 10:05 \n",
    "# Bus 2 A 10:05 D 10:15 \n",
    "# Bus 3 A 10:10 D 10:30 \n",
    "# Bus 4 A 10:25 D 10:40 \n",
    "# Bus 5 A 10:45 D 10:50 \n"
   ]
  },
  {
   "cell_type": "markdown",
   "metadata": {},
   "source": [
    "# Soal 6"
   ]
  },
  {
   "cell_type": "code",
   "execution_count": 139,
   "metadata": {},
   "outputs": [
    {
     "data": {
      "text/plain": [
       "'SYNOPSIS'"
      ]
     },
     "execution_count": 139,
     "metadata": {},
     "output_type": "execute_result"
    }
   ],
   "source": [
    "foo = \"SSYYNNOOPPSSIISS\"\n",
    "import itertools\n",
    "''.join(ch for ch, _ in itertools.groupby(foo))"
   ]
  },
  {
   "cell_type": "code",
   "execution_count": null,
   "metadata": {
    "collapsed": true
   },
   "outputs": [],
   "source": []
  }
 ],
 "metadata": {
  "kernelspec": {
   "display_name": "Python 2",
   "language": "python",
   "name": "python2"
  },
  "language_info": {
   "codemirror_mode": {
    "name": "ipython",
    "version": 2
   },
   "file_extension": ".py",
   "mimetype": "text/x-python",
   "name": "python",
   "nbconvert_exporter": "python",
   "pygments_lexer": "ipython2",
   "version": "2.7.13"
  }
 },
 "nbformat": 4,
 "nbformat_minor": 2
}
